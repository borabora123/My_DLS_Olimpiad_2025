{
 "cells": [
  {
   "cell_type": "markdown",
   "id": "4ceb1e69",
   "metadata": {
    "papermill": {
     "duration": 0.008782,
     "end_time": "2025-04-06T12:50:27.820098",
     "exception": false,
     "start_time": "2025-04-06T12:50:27.811316",
     "status": "completed"
    },
    "tags": []
   },
   "source": [
    "# Importing Libraries"
   ]
  },
  {
   "cell_type": "code",
   "execution_count": 1,
   "id": "73011ac1",
   "metadata": {
    "execution": {
     "iopub.execute_input": "2025-04-06T12:50:27.837316Z",
     "iopub.status.busy": "2025-04-06T12:50:27.837020Z",
     "iopub.status.idle": "2025-04-06T12:50:37.731069Z",
     "shell.execute_reply": "2025-04-06T12:50:37.730356Z"
    },
    "papermill": {
     "duration": 9.90446,
     "end_time": "2025-04-06T12:50:37.732663",
     "exception": false,
     "start_time": "2025-04-06T12:50:27.828203",
     "status": "completed"
    },
    "tags": []
   },
   "outputs": [],
   "source": [
    "import pandas as pd\n",
    "import matplotlib.pyplot as plt\n",
    "import seaborn as sns\n",
    "import cv2\n",
    "import os\n",
    "import random\n",
    "from sklearn.model_selection import train_test_split\n",
    "from torchvision import transforms\n",
    "import numpy as np\n",
    "\n",
    "import torch\n",
    "from torch.utils.data import Dataset, DataLoader\n",
    "from torchvision import transforms\n",
    "from PIL import Image\n",
    "import os\n",
    "import pandas as pd\n",
    "from sklearn.model_selection import train_test_split\n",
    "\n",
    "from sklearn.metrics import f1_score ,roc_auc_score\n",
    "from sklearn.metrics import confusion_matrix, classification_report\n",
    "import torch\n",
    "import torch.nn as nn\n",
    "import torchvision.models as models\n",
    "\n",
    "from torch.optim.lr_scheduler import StepLR\n",
    "from torch.optim.lr_scheduler import ReduceLROnPlateau\n",
    "import numpy as np\n",
    "import torch.optim as optim\n",
    "from tqdm import tqdm\n",
    "from torch.amp import GradScaler, autocast"
   ]
  },
  {
   "cell_type": "markdown",
   "id": "a6f56e84",
   "metadata": {
    "papermill": {
     "duration": 0.007784,
     "end_time": "2025-04-06T12:50:37.749168",
     "exception": false,
     "start_time": "2025-04-06T12:50:37.741384",
     "status": "completed"
    },
    "tags": []
   },
   "source": [
    "# Setting a Random Seed for Reproducibility"
   ]
  },
  {
   "cell_type": "code",
   "execution_count": 2,
   "id": "dd6a44a7",
   "metadata": {
    "execution": {
     "iopub.execute_input": "2025-04-06T12:50:37.766155Z",
     "iopub.status.busy": "2025-04-06T12:50:37.765751Z",
     "iopub.status.idle": "2025-04-06T12:50:37.822792Z",
     "shell.execute_reply": "2025-04-06T12:50:37.821760Z"
    },
    "papermill": {
     "duration": 0.067388,
     "end_time": "2025-04-06T12:50:37.824442",
     "exception": false,
     "start_time": "2025-04-06T12:50:37.757054",
     "status": "completed"
    },
    "tags": []
   },
   "outputs": [
    {
     "name": "stdout",
     "output_type": "stream",
     "text": [
      "CUDA is available, using GPU.\n"
     ]
    }
   ],
   "source": [
    "def set_seed(seed=42):\n",
    "    np.random.seed(seed)\n",
    "    random.seed(seed)\n",
    "    torch.manual_seed(seed)\n",
    "    torch.cuda.manual_seed(seed)\n",
    "    torch.cuda.manual_seed_all(seed)\n",
    "    torch.backends.cudnn.deterministic = True\n",
    "    torch.backends.cudnn.benchmark = False\n",
    "\n",
    "# Set fixed seed\n",
    "set_seed(42)\n",
    "\n",
    "# Check if CUDA is available\n",
    "if torch.cuda.is_available():\n",
    "    device = torch.device(\"cuda\")\n",
    "    print(\"CUDA is available, using GPU.\")\n",
    "else:\n",
    "    device = torch.device(\"cpu\")\n",
    "    print(\"CUDA is not available, using CPU.\")"
   ]
  },
  {
   "cell_type": "markdown",
   "id": "bc4b8de5",
   "metadata": {
    "papermill": {
     "duration": 0.008045,
     "end_time": "2025-04-06T12:50:37.841396",
     "exception": false,
     "start_time": "2025-04-06T12:50:37.833351",
     "status": "completed"
    },
    "tags": []
   },
   "source": [
    "# Loading Data"
   ]
  },
  {
   "cell_type": "code",
   "execution_count": 3,
   "id": "1193c4d3",
   "metadata": {
    "execution": {
     "iopub.execute_input": "2025-04-06T12:50:37.858411Z",
     "iopub.status.busy": "2025-04-06T12:50:37.858165Z",
     "iopub.status.idle": "2025-04-06T12:50:37.887124Z",
     "shell.execute_reply": "2025-04-06T12:50:37.886160Z"
    },
    "papermill": {
     "duration": 0.039178,
     "end_time": "2025-04-06T12:50:37.888570",
     "exception": false,
     "start_time": "2025-04-06T12:50:37.849392",
     "status": "completed"
    },
    "tags": []
   },
   "outputs": [
    {
     "name": "stdout",
     "output_type": "stream",
     "text": [
      "Train dataset shape: (8952, 2)\n",
      "Test dataset shape: (2064, 1)\n"
     ]
    }
   ],
   "source": [
    "# Load the dataset\n",
    "base_dir = '/kaggle/input/not-beautifull-marketplace'\n",
    "train_df = pd.read_csv(\"/kaggle/input/not-beautifull-marketplace/train .csv\")\n",
    "test_df = pd.read_csv(\"/kaggle/input/not-beautifull-marketplace/test.csv\")\n",
    "\n",
    "# Display basic info\n",
    "print(\"Train dataset shape:\", train_df.shape)\n",
    "print(\"Test dataset shape:\", test_df.shape)"
   ]
  },
  {
   "cell_type": "markdown",
   "id": "a1f90073",
   "metadata": {
    "papermill": {
     "duration": 0.007784,
     "end_time": "2025-04-06T12:50:37.904685",
     "exception": false,
     "start_time": "2025-04-06T12:50:37.896901",
     "status": "completed"
    },
    "tags": []
   },
   "source": [
    "# Preprocessing"
   ]
  },
  {
   "cell_type": "code",
   "execution_count": 4,
   "id": "9a9ae4e3",
   "metadata": {
    "execution": {
     "iopub.execute_input": "2025-04-06T12:50:37.922111Z",
     "iopub.status.busy": "2025-04-06T12:50:37.921871Z",
     "iopub.status.idle": "2025-04-06T12:50:37.936843Z",
     "shell.execute_reply": "2025-04-06T12:50:37.936185Z"
    },
    "papermill": {
     "duration": 0.02498,
     "end_time": "2025-04-06T12:50:37.938056",
     "exception": false,
     "start_time": "2025-04-06T12:50:37.913076",
     "status": "completed"
    },
    "tags": []
   },
   "outputs": [],
   "source": [
    "train_df = train_df\n",
    "\n",
    "# Adding the full path to the file_name instead of just \"trainORtest_data/xxx.jpg\"\n",
    "test_df['id'] = base_dir+'/test/test/'+test_df['id']\n",
    "train_df['id'] = base_dir+'/train/train/'+train_df['target'].astype(str)+'/'+train_df['id']"
   ]
  },
  {
   "cell_type": "code",
   "execution_count": 5,
   "id": "b5c5f844",
   "metadata": {
    "execution": {
     "iopub.execute_input": "2025-04-06T12:50:37.955102Z",
     "iopub.status.busy": "2025-04-06T12:50:37.954892Z",
     "iopub.status.idle": "2025-04-06T12:50:37.971955Z",
     "shell.execute_reply": "2025-04-06T12:50:37.971268Z"
    },
    "papermill": {
     "duration": 0.026733,
     "end_time": "2025-04-06T12:50:37.973077",
     "exception": false,
     "start_time": "2025-04-06T12:50:37.946344",
     "status": "completed"
    },
    "tags": []
   },
   "outputs": [
    {
     "data": {
      "text/html": [
       "<div>\n",
       "<style scoped>\n",
       "    .dataframe tbody tr th:only-of-type {\n",
       "        vertical-align: middle;\n",
       "    }\n",
       "\n",
       "    .dataframe tbody tr th {\n",
       "        vertical-align: top;\n",
       "    }\n",
       "\n",
       "    .dataframe thead th {\n",
       "        text-align: right;\n",
       "    }\n",
       "</style>\n",
       "<table border=\"1\" class=\"dataframe\">\n",
       "  <thead>\n",
       "    <tr style=\"text-align: right;\">\n",
       "      <th></th>\n",
       "      <th>id</th>\n",
       "      <th>target</th>\n",
       "    </tr>\n",
       "  </thead>\n",
       "  <tbody>\n",
       "    <tr>\n",
       "      <th>0</th>\n",
       "      <td>/kaggle/input/not-beautifull-marketplace/train...</td>\n",
       "      <td>1</td>\n",
       "    </tr>\n",
       "    <tr>\n",
       "      <th>1</th>\n",
       "      <td>/kaggle/input/not-beautifull-marketplace/train...</td>\n",
       "      <td>1</td>\n",
       "    </tr>\n",
       "    <tr>\n",
       "      <th>2</th>\n",
       "      <td>/kaggle/input/not-beautifull-marketplace/train...</td>\n",
       "      <td>1</td>\n",
       "    </tr>\n",
       "    <tr>\n",
       "      <th>3</th>\n",
       "      <td>/kaggle/input/not-beautifull-marketplace/train...</td>\n",
       "      <td>1</td>\n",
       "    </tr>\n",
       "    <tr>\n",
       "      <th>4</th>\n",
       "      <td>/kaggle/input/not-beautifull-marketplace/train...</td>\n",
       "      <td>1</td>\n",
       "    </tr>\n",
       "    <tr>\n",
       "      <th>...</th>\n",
       "      <td>...</td>\n",
       "      <td>...</td>\n",
       "    </tr>\n",
       "    <tr>\n",
       "      <th>8947</th>\n",
       "      <td>/kaggle/input/not-beautifull-marketplace/train...</td>\n",
       "      <td>1</td>\n",
       "    </tr>\n",
       "    <tr>\n",
       "      <th>8948</th>\n",
       "      <td>/kaggle/input/not-beautifull-marketplace/train...</td>\n",
       "      <td>1</td>\n",
       "    </tr>\n",
       "    <tr>\n",
       "      <th>8949</th>\n",
       "      <td>/kaggle/input/not-beautifull-marketplace/train...</td>\n",
       "      <td>1</td>\n",
       "    </tr>\n",
       "    <tr>\n",
       "      <th>8950</th>\n",
       "      <td>/kaggle/input/not-beautifull-marketplace/train...</td>\n",
       "      <td>1</td>\n",
       "    </tr>\n",
       "    <tr>\n",
       "      <th>8951</th>\n",
       "      <td>/kaggle/input/not-beautifull-marketplace/train...</td>\n",
       "      <td>1</td>\n",
       "    </tr>\n",
       "  </tbody>\n",
       "</table>\n",
       "<p>8952 rows × 2 columns</p>\n",
       "</div>"
      ],
      "text/plain": [
       "                                                     id  target\n",
       "0     /kaggle/input/not-beautifull-marketplace/train...       1\n",
       "1     /kaggle/input/not-beautifull-marketplace/train...       1\n",
       "2     /kaggle/input/not-beautifull-marketplace/train...       1\n",
       "3     /kaggle/input/not-beautifull-marketplace/train...       1\n",
       "4     /kaggle/input/not-beautifull-marketplace/train...       1\n",
       "...                                                 ...     ...\n",
       "8947  /kaggle/input/not-beautifull-marketplace/train...       1\n",
       "8948  /kaggle/input/not-beautifull-marketplace/train...       1\n",
       "8949  /kaggle/input/not-beautifull-marketplace/train...       1\n",
       "8950  /kaggle/input/not-beautifull-marketplace/train...       1\n",
       "8951  /kaggle/input/not-beautifull-marketplace/train...       1\n",
       "\n",
       "[8952 rows x 2 columns]"
      ]
     },
     "execution_count": 5,
     "metadata": {},
     "output_type": "execute_result"
    }
   ],
   "source": [
    "train_df"
   ]
  },
  {
   "cell_type": "code",
   "execution_count": 6,
   "id": "f44d05de",
   "metadata": {
    "execution": {
     "iopub.execute_input": "2025-04-06T12:50:37.990370Z",
     "iopub.status.busy": "2025-04-06T12:50:37.990147Z",
     "iopub.status.idle": "2025-04-06T12:50:38.002927Z",
     "shell.execute_reply": "2025-04-06T12:50:38.002228Z"
    },
    "papermill": {
     "duration": 0.022705,
     "end_time": "2025-04-06T12:50:38.004215",
     "exception": false,
     "start_time": "2025-04-06T12:50:37.981510",
     "status": "completed"
    },
    "tags": []
   },
   "outputs": [
    {
     "name": "stdout",
     "output_type": "stream",
     "text": [
      "Train Data: 8056\n",
      "Validation Data: 896\n",
      "Test Data: 2064\n"
     ]
    }
   ],
   "source": [
    "# ✅ Split the train_df DataFrame itself, NOT just 'file_name' and 'label' separately\n",
    "train_df, val_df = train_test_split(\n",
    "    train_df,  \n",
    "    test_size=0.1,        \n",
    "    stratify=train_df['target'],  \n",
    "    random_state=42\n",
    ")\n",
    "\n",
    "# ✅ Print checks\n",
    "print(f\"Train Data: {len(train_df)}\")\n",
    "print(f\"Validation Data: {len(val_df)}\")\n",
    "print(f\"Test Data: {len(test_df)}\")  # Test data remains unchanged\n"
   ]
  },
  {
   "cell_type": "markdown",
   "id": "9f8145b9",
   "metadata": {
    "papermill": {
     "duration": 0.008008,
     "end_time": "2025-04-06T12:50:38.020702",
     "exception": false,
     "start_time": "2025-04-06T12:50:38.012694",
     "status": "completed"
    },
    "tags": []
   },
   "source": [
    "# Data Augmentation"
   ]
  },
  {
   "cell_type": "code",
   "execution_count": 7,
   "id": "f8d477a5",
   "metadata": {
    "execution": {
     "iopub.execute_input": "2025-04-06T12:50:38.037917Z",
     "iopub.status.busy": "2025-04-06T12:50:38.037698Z",
     "iopub.status.idle": "2025-04-06T12:50:38.042200Z",
     "shell.execute_reply": "2025-04-06T12:50:38.041619Z"
    },
    "papermill": {
     "duration": 0.014472,
     "end_time": "2025-04-06T12:50:38.043438",
     "exception": false,
     "start_time": "2025-04-06T12:50:38.028966",
     "status": "completed"
    },
    "tags": []
   },
   "outputs": [],
   "source": [
    "# ✅ Training Transformations (with Augmentation)\n",
    "train_transforms = transforms.Compose([\n",
    "    transforms.Resize((232)),                \n",
    "    transforms.RandomResizedCrop(224),  \n",
    "    transforms.RandomHorizontalFlip(),      \n",
    "    transforms.RandomRotation(10),           \n",
    "    transforms.ColorJitter(brightness=0.2, contrast=0.2, saturation=0.2, hue=0.1),  \n",
    "    transforms.ToTensor(),        \n",
    "    transforms.Normalize([0.485, 0.456, 0.406], [0.229, 0.224, 0.225])  \n",
    "])                        \n",
    "    \n",
    "# ✅ Testing Transformations (NO Augmentation)\n",
    "test_transforms = transforms.Compose([\n",
    "    transforms.Resize(232),  \n",
    "    transforms.CenterCrop(224),             \n",
    "    transforms.ToTensor(),                        \n",
    "    transforms.Normalize([0.485, 0.456, 0.406], [0.229, 0.224, 0.225])   \n",
    "])\n"
   ]
  },
  {
   "cell_type": "markdown",
   "id": "b1bf693d",
   "metadata": {
    "papermill": {
     "duration": 0.007875,
     "end_time": "2025-04-06T12:50:38.059515",
     "exception": false,
     "start_time": "2025-04-06T12:50:38.051640",
     "status": "completed"
    },
    "tags": []
   },
   "source": [
    "# Creating a Custom Dataset Class"
   ]
  },
  {
   "cell_type": "code",
   "execution_count": 8,
   "id": "9b2f2cad",
   "metadata": {
    "execution": {
     "iopub.execute_input": "2025-04-06T12:50:38.076596Z",
     "iopub.status.busy": "2025-04-06T12:50:38.076331Z",
     "iopub.status.idle": "2025-04-06T12:50:38.081313Z",
     "shell.execute_reply": "2025-04-06T12:50:38.080509Z"
    },
    "papermill": {
     "duration": 0.014912,
     "end_time": "2025-04-06T12:50:38.082526",
     "exception": false,
     "start_time": "2025-04-06T12:50:38.067614",
     "status": "completed"
    },
    "tags": []
   },
   "outputs": [],
   "source": [
    "class CustomDataset(Dataset):\n",
    "    def __init__(self, df, transform=None, is_test=False):\n",
    "        self.df = pd.DataFrame(df)  # Ensure it's a DataFrame\n",
    "        self.transform = transform\n",
    "        self.is_test = is_test  # Test dataset flag\n",
    "\n",
    "    def __len__(self):\n",
    "        return len(self.df)\n",
    "\n",
    "    def __getitem__(self, idx):\n",
    "        img_path = self.df.iloc[idx][\"id\"]\n",
    "        img = Image.open(img_path).convert(\"RGB\")\n",
    "\n",
    "        if self.transform:\n",
    "            img = self.transform(img)\n",
    "\n",
    "        if self.is_test:\n",
    "            return img  # No label for test dataset\n",
    "        else:\n",
    "            label = self.df.iloc[idx][\"target\"]\n",
    "            return img, label"
   ]
  },
  {
   "cell_type": "code",
   "execution_count": 9,
   "id": "16e9aaa8",
   "metadata": {
    "execution": {
     "iopub.execute_input": "2025-04-06T12:50:38.099691Z",
     "iopub.status.busy": "2025-04-06T12:50:38.099447Z",
     "iopub.status.idle": "2025-04-06T12:50:38.103766Z",
     "shell.execute_reply": "2025-04-06T12:50:38.102984Z"
    },
    "papermill": {
     "duration": 0.014199,
     "end_time": "2025-04-06T12:50:38.105064",
     "exception": false,
     "start_time": "2025-04-06T12:50:38.090865",
     "status": "completed"
    },
    "tags": []
   },
   "outputs": [],
   "source": [
    "# ✅ Train & Validation Datasets\n",
    "train_dataset = CustomDataset(df=train_df, transform=train_transforms)\n",
    "val_dataset = CustomDataset(df=val_df, transform=test_transforms)\n",
    "\n",
    "batch_size = 16\n",
    "# ✅ DataLoaders\n",
    "#train_loader = DataLoader(train_dataset, batch_size=8, shuffle=True)\n",
    "#val_loader = DataLoader(val_dataset, batch_size=8, shuffle=False)\n",
    "\n",
    "train_loader = DataLoader(train_dataset, batch_size=batch_size, shuffle=True, num_workers=4, pin_memory=True)\n",
    "val_loader = DataLoader(val_dataset, batch_size=batch_size, shuffle=False, num_workers=4, pin_memory=True)"
   ]
  },
  {
   "cell_type": "code",
   "execution_count": 10,
   "id": "46d6dfae",
   "metadata": {
    "execution": {
     "iopub.execute_input": "2025-04-06T12:50:38.122080Z",
     "iopub.status.busy": "2025-04-06T12:50:38.121885Z",
     "iopub.status.idle": "2025-04-06T12:50:40.002235Z",
     "shell.execute_reply": "2025-04-06T12:50:40.001112Z"
    },
    "papermill": {
     "duration": 1.890404,
     "end_time": "2025-04-06T12:50:40.003739",
     "exception": false,
     "start_time": "2025-04-06T12:50:38.113335",
     "status": "completed"
    },
    "tags": []
   },
   "outputs": [
    {
     "name": "stdout",
     "output_type": "stream",
     "text": [
      "Batch shape: torch.Size([16, 3, 224, 224]), Labels shape: torch.Size([16])\n"
     ]
    }
   ],
   "source": [
    "batch_images, batch_labels = next(iter(train_loader))\n",
    "print(f\"Batch shape: {batch_images.shape}, Labels shape: {batch_labels.shape}\")"
   ]
  },
  {
   "cell_type": "code",
   "execution_count": 11,
   "id": "488f8fd6",
   "metadata": {
    "execution": {
     "iopub.execute_input": "2025-04-06T12:50:40.021904Z",
     "iopub.status.busy": "2025-04-06T12:50:40.021617Z",
     "iopub.status.idle": "2025-04-06T12:50:40.026010Z",
     "shell.execute_reply": "2025-04-06T12:50:40.025183Z"
    },
    "papermill": {
     "duration": 0.014607,
     "end_time": "2025-04-06T12:50:40.027240",
     "exception": false,
     "start_time": "2025-04-06T12:50:40.012633",
     "status": "completed"
    },
    "tags": []
   },
   "outputs": [
    {
     "name": "stdout",
     "output_type": "stream",
     "text": [
      "CUDA Available: True\n",
      "Device: cuda\n"
     ]
    }
   ],
   "source": [
    "print(f\"CUDA Available: {torch.cuda.is_available()}\")\n",
    "print(f\"Device: {device}\")"
   ]
  },
  {
   "cell_type": "markdown",
   "id": "8a1944ff",
   "metadata": {
    "papermill": {
     "duration": 0.008026,
     "end_time": "2025-04-06T12:50:40.043712",
     "exception": false,
     "start_time": "2025-04-06T12:50:40.035686",
     "status": "completed"
    },
    "tags": []
   },
   "source": [
    "# Model (ConvNeXt Large + Swin Transformer)"
   ]
  },
  {
   "cell_type": "code",
   "execution_count": 12,
   "id": "e7eab1cb",
   "metadata": {
    "execution": {
     "iopub.execute_input": "2025-04-06T12:50:40.061001Z",
     "iopub.status.busy": "2025-04-06T12:50:40.060768Z",
     "iopub.status.idle": "2025-04-06T12:50:54.139315Z",
     "shell.execute_reply": "2025-04-06T12:50:54.138594Z"
    },
    "papermill": {
     "duration": 14.088898,
     "end_time": "2025-04-06T12:50:54.140775",
     "exception": false,
     "start_time": "2025-04-06T12:50:40.051877",
     "status": "completed"
    },
    "tags": []
   },
   "outputs": [
    {
     "data": {
      "application/vnd.jupyter.widget-view+json": {
       "model_id": "a44583e37bda4ee9be01ff833d9ff5a2",
       "version_major": 2,
       "version_minor": 0
      },
      "text/plain": [
       "model.safetensors:   0%|          | 0.00/791M [00:00<?, ?B/s]"
      ]
     },
     "metadata": {},
     "output_type": "display_data"
    },
    {
     "data": {
      "application/vnd.jupyter.widget-view+json": {
       "model_id": "3005097ef38048b5b01c975426011a38",
       "version_major": 2,
       "version_minor": 0
      },
      "text/plain": [
       "model.safetensors:   0%|          | 0.00/353M [00:00<?, ?B/s]"
      ]
     },
     "metadata": {},
     "output_type": "display_data"
    }
   ],
   "source": [
    "import torch\n",
    "import torch.nn as nn\n",
    "from timm import create_model\n",
    "\n",
    "class ViTConXWithAvgPooling(nn.Module):\n",
    "    def __init__(self, num_classes=1):\n",
    "        super(ViTConXWithAvgPooling, self).__init__()\n",
    "\n",
    "        # Load ConvNeXt Large\n",
    "        self.convnext = create_model(\"convnext_large\", pretrained=True, num_classes=0)\n",
    "        convnext_out = self.convnext.num_features\n",
    "\n",
    "        # Load Swin Transformer\n",
    "        self.swin = create_model(\"swin_base_patch4_window7_224\", pretrained=True, num_classes=0)\n",
    "        swin_out = self.swin.num_features\n",
    "\n",
    "        # Global Average Pooling for each model\n",
    "        self.global_avg_pooling_convnext = nn.AdaptiveAvgPool1d(1)\n",
    "        self.global_avg_pooling_swin = nn.AdaptiveAvgPool1d(1)\n",
    "\n",
    "        # Fully Connected Layers for feature fusion\n",
    "        self.feature_fusion = nn.Sequential(\n",
    "            nn.BatchNorm1d(convnext_out + swin_out),\n",
    "            nn.Linear(convnext_out + swin_out, 1024),\n",
    "            nn.ReLU(),\n",
    "            nn.Dropout(0.4),\n",
    "            nn.Linear(1024, 512),\n",
    "            nn.ReLU(),\n",
    "            nn.Dropout(0.4),\n",
    "            nn.Linear(512, 256),\n",
    "            nn.ReLU(),\n",
    "            nn.Dropout(0.4),\n",
    "        )\n",
    "        \n",
    "        # Decoder: Additional layers to output classification results\n",
    "        self.decoder = nn.Sequential(\n",
    "            nn.Linear(256, 128),\n",
    "            nn.ReLU(),\n",
    "            nn.Linear(128, num_classes)  \n",
    "        )\n",
    "\n",
    "    def forward(self, x):\n",
    "        # Pass through ConvNeXt and Swin Transformer\n",
    "        x_convnext = self.convnext(x)\n",
    "        x_swin = self.swin(x)\n",
    "\n",
    "        # Debug print statements to inspect tensor shapes\n",
    "        #print(\"Shape of x_convnext before pooling:\", x_convnext.shape)\n",
    "        #print(\"Shape of x_swin before pooling:\", x_swin.shape)\n",
    "\n",
    "        # Apply global average pooling\n",
    "        x_convnext = self.global_avg_pooling_convnext(x_convnext.unsqueeze(2)).view(x_convnext.size(0), -1)\n",
    "        x_swin = self.global_avg_pooling_swin(x_swin.unsqueeze(2)).view(x_swin.size(0), -1)\n",
    "\n",
    "        # Debug print statements to inspect tensor shapes after pooling\n",
    "        #print(\"Shape of x_convnext after pooling:\", x_convnext.shape)\n",
    "        #print(\"Shape of x_swin after pooling:\", x_swin.shape)\n",
    "\n",
    "        # Concatenate both feature vectors\n",
    "        x_combined = torch.cat((x_convnext, x_swin), dim=1)\n",
    "        x_fused = self.feature_fusion(x_combined)\n",
    "\n",
    "        # Pass through the decoder to output the final classification result\n",
    "        decoded_output = self.decoder(x_fused)\n",
    "\n",
    "        return decoded_output\n",
    "\n",
    "# Initialize the model with ConvNeXt Large and Swin Transformer\n",
    "device = torch.device(\"cuda\" if torch.cuda.is_available() else \"cpu\")\n",
    "model = ViTConXWithAvgPooling(num_classes=1).to(device)"
   ]
  },
  {
   "cell_type": "code",
   "execution_count": 13,
   "id": "68840412",
   "metadata": {
    "execution": {
     "iopub.execute_input": "2025-04-06T12:50:54.159509Z",
     "iopub.status.busy": "2025-04-06T12:50:54.159225Z",
     "iopub.status.idle": "2025-04-06T12:50:54.171166Z",
     "shell.execute_reply": "2025-04-06T12:50:54.170360Z"
    },
    "papermill": {
     "duration": 0.022522,
     "end_time": "2025-04-06T12:50:54.172414",
     "exception": false,
     "start_time": "2025-04-06T12:50:54.149892",
     "status": "completed"
    },
    "tags": []
   },
   "outputs": [],
   "source": [
    "# Freeze All Layers\n",
    "for param in model.convnext.parameters():\n",
    "    param.requires_grad = False\n",
    "\n",
    "for param in model.swin.parameters():\n",
    "    param.requires_grad = False\n",
    "\n",
    "# Unfreeze Last 10 Layers\n",
    "for param in list(model.convnext.parameters()):\n",
    "    param.requires_grad = True\n",
    "\n",
    "for param in list(model.swin.parameters()):\n",
    "    param.requires_grad = True\n",
    "\n",
    "    \n",
    "# Prepare optimizer\n",
    "trainable_params = [p for p in model.parameters() if p.requires_grad]\n",
    "optimizer = torch.optim.AdamW(trainable_params, lr=1e-4, weight_decay=1e-2)\n",
    "scheduler = torch.optim.lr_scheduler.CosineAnnealingLR(optimizer, T_max=10)\n",
    "\n",
    "# Define Loss Function\n",
    "criterion = nn.BCEWithLogitsLoss().to(device)"
   ]
  },
  {
   "cell_type": "code",
   "execution_count": 14,
   "id": "1d8c3e98",
   "metadata": {
    "execution": {
     "iopub.execute_input": "2025-04-06T12:50:54.190605Z",
     "iopub.status.busy": "2025-04-06T12:50:54.190356Z",
     "iopub.status.idle": "2025-04-06T12:50:54.193676Z",
     "shell.execute_reply": "2025-04-06T12:50:54.192887Z"
    },
    "papermill": {
     "duration": 0.01385,
     "end_time": "2025-04-06T12:50:54.194969",
     "exception": false,
     "start_time": "2025-04-06T12:50:54.181119",
     "status": "completed"
    },
    "tags": []
   },
   "outputs": [],
   "source": [
    "torch.cuda.empty_cache()"
   ]
  },
  {
   "cell_type": "markdown",
   "id": "212edf88",
   "metadata": {
    "papermill": {
     "duration": 0.008336,
     "end_time": "2025-04-06T12:50:54.211991",
     "exception": false,
     "start_time": "2025-04-06T12:50:54.203655",
     "status": "completed"
    },
    "tags": []
   },
   "source": [
    "# Training "
   ]
  },
  {
   "cell_type": "code",
   "execution_count": 15,
   "id": "c394a4c5",
   "metadata": {
    "execution": {
     "iopub.execute_input": "2025-04-06T12:50:54.229942Z",
     "iopub.status.busy": "2025-04-06T12:50:54.229622Z",
     "iopub.status.idle": "2025-04-06T14:16:03.730962Z",
     "shell.execute_reply": "2025-04-06T14:16:03.729875Z"
    },
    "papermill": {
     "duration": 5109.511798,
     "end_time": "2025-04-06T14:16:03.732240",
     "exception": false,
     "start_time": "2025-04-06T12:50:54.220442",
     "status": "completed"
    },
    "tags": []
   },
   "outputs": [
    {
     "name": "stderr",
     "output_type": "stream",
     "text": [
      "Training Epoch 1: 100%|██████████| 504/504 [28:03<00:00,  3.34s/it]\n",
      "Validation Epoch 1: 100%|██████████| 56/56 [00:22<00:00,  2.46it/s]\n"
     ]
    },
    {
     "name": "stdout",
     "output_type": "stream",
     "text": [
      "Epoch [1/3] Train Loss: 0.3850 | Train Acc: 0.8113 | Val Loss: 0.1824 | Val Acc: 0.9241 | Val F1: 0.9432 | Val ROC AUC: 0.9204\n",
      " Model saved!\n"
     ]
    },
    {
     "name": "stderr",
     "output_type": "stream",
     "text": [
      "Training Epoch 2: 100%|██████████| 504/504 [28:00<00:00,  3.33s/it]\n",
      "Validation Epoch 2: 100%|██████████| 56/56 [00:22<00:00,  2.47it/s]\n"
     ]
    },
    {
     "name": "stdout",
     "output_type": "stream",
     "text": [
      "Epoch [2/3] Train Loss: 0.2940 | Train Acc: 0.8744 | Val Loss: 0.1651 | Val Acc: 0.9420 | Val F1: 0.9562 | Val ROC AUC: 0.9463\n",
      " Model saved!\n"
     ]
    },
    {
     "name": "stderr",
     "output_type": "stream",
     "text": [
      "Training Epoch 3: 100%|██████████| 504/504 [27:48<00:00,  3.31s/it]\n",
      "Validation Epoch 3: 100%|██████████| 56/56 [00:22<00:00,  2.47it/s]"
     ]
    },
    {
     "name": "stdout",
     "output_type": "stream",
     "text": [
      "Epoch [3/3] Train Loss: 0.2702 | Train Acc: 0.8869 | Val Loss: 0.1761 | Val Acc: 0.9330 | Val F1: 0.9494 | Val ROC AUC: 0.9361\n",
      "⚠️ Early stopping at epoch 3\n"
     ]
    },
    {
     "name": "stderr",
     "output_type": "stream",
     "text": [
      "\n"
     ]
    }
   ],
   "source": [
    "# Initialize GradScaler for mixed precision training\n",
    "scaler = GradScaler(device='cuda')\n",
    "\n",
    "# Initialize lists to store training progress\n",
    "train_losses, train_accuracies = [], []\n",
    "val_losses, val_accuracies, val_f1_scores, val_roc_aucs = [], [], [], []\n",
    "\n",
    "epochs = 3\n",
    "patience = 1\n",
    "best_val_loss = float(\"inf\")\n",
    "epochs_without_improvement = 0  \n",
    "\n",
    "for epoch in range(epochs):\n",
    "    model.train()\n",
    "    epoch_loss, epoch_accuracy = 0.0, 0.0\n",
    "\n",
    "    for data, label in tqdm(train_loader, desc=f\"Training Epoch {epoch+1}\"):\n",
    "        data, label = data.to(device), label.to(device).float()\n",
    "\n",
    "        optimizer.zero_grad()\n",
    "\n",
    "        # Mixed precision training\n",
    "        with autocast(device_type='cuda'):\n",
    "            output = model(data).squeeze(1)\n",
    "            loss = criterion(output, label)\n",
    "\n",
    "        scaler.scale(loss).backward()\n",
    "        scaler.step(optimizer)\n",
    "        scaler.update()\n",
    "\n",
    "        epoch_loss += loss.item()\n",
    "        preds = (torch.sigmoid(output) > 0.5).float()\n",
    "        epoch_accuracy += (preds == label).float().mean().item()\n",
    "\n",
    "    epoch_loss /= len(train_loader)\n",
    "    epoch_accuracy /= len(train_loader)\n",
    "    train_losses.append(epoch_loss)\n",
    "    train_accuracies.append(epoch_accuracy)\n",
    "\n",
    "    # -- Validation --\n",
    "    model.eval()\n",
    "    val_loss, val_acc = 0.0, 0.0\n",
    "    val_pred_classes, val_labels_list = [], []\n",
    "\n",
    "    with torch.no_grad():\n",
    "        for data, label in tqdm(val_loader, desc=f\"Validation Epoch {epoch+1}\"):\n",
    "            data, label = data.to(device), label.to(device).float()\n",
    "\n",
    "            with autocast(device_type='cuda'):\n",
    "                output = model(data).squeeze(1)\n",
    "                loss = criterion(output, label)\n",
    "\n",
    "            val_loss += loss.item()\n",
    "            preds = (torch.sigmoid(output) > 0.5).float()\n",
    "            val_acc += (preds == label).float().mean().item()\n",
    "\n",
    "            val_pred_classes.extend(preds.cpu().numpy())\n",
    "            val_labels_list.extend(label.cpu().numpy())\n",
    "\n",
    "    val_loss /= len(val_loader)\n",
    "    val_acc /= len(val_loader)\n",
    "    val_f1 = f1_score(np.array(val_labels_list, dtype=int), \n",
    "                      np.array(val_pred_classes, dtype=int))\n",
    "    val_roc_auc = roc_auc_score(np.array(val_labels_list, dtype=int), \n",
    "                                np.array(val_pred_classes, dtype=int))\n",
    "\n",
    "    val_losses.append(val_loss)\n",
    "    val_accuracies.append(val_acc)\n",
    "    val_f1_scores.append(val_f1)\n",
    "    val_roc_aucs.append(val_roc_auc)\n",
    "\n",
    "    print(f\"Epoch [{epoch+1}/{epochs}] Train Loss: {epoch_loss:.4f} | Train Acc: {epoch_accuracy:.4f} | Val Loss: {val_loss:.4f} | Val Acc: {val_acc:.4f} | Val F1: {val_f1:.4f} | Val ROC AUC: {val_roc_auc:.4f}\")\n",
    "\n",
    "    scheduler.step()\n",
    "\n",
    "    # Early Stopping\n",
    "    if val_loss < best_val_loss:\n",
    "        best_val_loss = val_loss\n",
    "        torch.save(model.state_dict(), 'best_model_weights.pth')  \n",
    "        torch.save(model, 'best_model.pth')  # Save both model and weights\n",
    "        print(\" Model saved!\")\n",
    "        epochs_without_improvement = 0  # Reset counter after improvement\n",
    "    else:\n",
    "        epochs_without_improvement += 1\n",
    "        if epochs_without_improvement >= patience:\n",
    "            print(f\"⚠️ Early stopping at epoch {epoch+1}\")\n",
    "            break"
   ]
  },
  {
   "cell_type": "markdown",
   "id": "46cda1e9",
   "metadata": {
    "papermill": {
     "duration": 0.079231,
     "end_time": "2025-04-06T14:16:03.892885",
     "exception": false,
     "start_time": "2025-04-06T14:16:03.813654",
     "status": "completed"
    },
    "tags": []
   },
   "source": [
    "# Plot"
   ]
  },
  {
   "cell_type": "code",
   "execution_count": 16,
   "id": "407c480a",
   "metadata": {
    "execution": {
     "iopub.execute_input": "2025-04-06T14:16:04.052434Z",
     "iopub.status.busy": "2025-04-06T14:16:04.052125Z",
     "iopub.status.idle": "2025-04-06T14:16:04.760015Z",
     "shell.execute_reply": "2025-04-06T14:16:04.759190Z"
    },
    "papermill": {
     "duration": 0.789428,
     "end_time": "2025-04-06T14:16:04.761335",
     "exception": false,
     "start_time": "2025-04-06T14:16:03.971907",
     "status": "completed"
    },
    "tags": []
   },
   "outputs": [
    {
     "data": {
      "image/png": "[encoded data removed]",
      "text/plain": [
       "<Figure size 1400x600 with 2 Axes>"
      ]
     },
     "metadata": {},
     "output_type": "display_data"
    }
   ],
   "source": [
    "# Plot Loss and Accuracy\n",
    "\n",
    "fig, axs = plt.subplots(1, 2, figsize=(14, 6))\n",
    "\n",
    "# Plot Loss\n",
    "axs[0].plot(range(1, len(train_losses) + 1), train_losses, label='Train Loss', color='blue')\n",
    "axs[0].plot(range(1, len(val_losses) + 1), val_losses, label='Validation Loss', color='red')\n",
    "axs[0].set_title('Loss per Epoch')\n",
    "axs[0].set_xlabel('Epochs')\n",
    "axs[0].set_ylabel('Loss')\n",
    "axs[0].legend()\n",
    "\n",
    "# Plot Accuracy\n",
    "axs[1].plot(range(1, len(train_accuracies) + 1), train_accuracies, label='Train Accuracy', color='blue')\n",
    "axs[1].plot(range(1, len(val_accuracies) + 1), val_accuracies, label='Validation Accuracy', color='red')\n",
    "axs[1].set_title('Accuracy per Epoch')\n",
    "\n",
    "axs[1].set_xlabel('Epochs')\n",
    "axs[1].set_ylabel('Accuracy')\n",
    "axs[1].legend()\n",
    "\n",
    "# Show the plots\n",
    "plt.tight_layout()\n",
    "plt.savefig('Accuracy per Epoch.png')\n",
    "plt.show()"
   ]
  },
  {
   "cell_type": "code",
   "execution_count": 17,
   "id": "715492bd",
   "metadata": {
    "execution": {
     "iopub.execute_input": "2025-04-06T14:16:04.925607Z",
     "iopub.status.busy": "2025-04-06T14:16:04.925299Z",
     "iopub.status.idle": "2025-04-06T14:16:05.109872Z",
     "shell.execute_reply": "2025-04-06T14:16:05.109007Z"
    },
    "papermill": {
     "duration": 0.266941,
     "end_time": "2025-04-06T14:16:05.111140",
     "exception": false,
     "start_time": "2025-04-06T14:16:04.844199",
     "status": "completed"
    },
    "tags": []
   },
   "outputs": [
    {
     "data": {
      "image/png": "[encoded data removed]",
      "text/plain": [
       "<Figure size 800x600 with 1 Axes>"
      ]
     },
     "metadata": {},
     "output_type": "display_data"
    }
   ],
   "source": [
    "import matplotlib.pyplot as plt\n",
    "from sklearn.metrics import roc_curve\n",
    "\n",
    "# Compute ROC curve\n",
    "fpr, tpr, _ = roc_curve(np.array(val_labels_list, dtype=int), np.array(val_pred_classes, dtype=int))\n",
    "\n",
    "# Plot ROC Curve\n",
    "plt.figure(figsize=(8, 6))\n",
    "plt.plot(fpr, tpr, color='blue', label=f'ROC Curve (AUC = {val_roc_auc:.4f})')\n",
    "plt.plot([0, 1], [0, 1], linestyle='--', color='gray', label='Random Guess')\n",
    "plt.xlabel(\"False Positive Rate\")\n",
    "plt.ylabel(\"True Positive Rate\")\n",
    "plt.title(\"ROC Curve\")\n",
    "plt.legend()\n",
    "plt.grid()\n",
    "plt.show()\n"
   ]
  },
  {
   "cell_type": "code",
   "execution_count": 18,
   "id": "1244f036",
   "metadata": {
    "execution": {
     "iopub.execute_input": "2025-04-06T14:16:05.277714Z",
     "iopub.status.busy": "2025-04-06T14:16:05.277430Z",
     "iopub.status.idle": "2025-04-06T14:16:05.449407Z",
     "shell.execute_reply": "2025-04-06T14:16:05.448663Z"
    },
    "papermill": {
     "duration": 0.255603,
     "end_time": "2025-04-06T14:16:05.450686",
     "exception": false,
     "start_time": "2025-04-06T14:16:05.195083",
     "status": "completed"
    },
    "tags": []
   },
   "outputs": [
    {
     "data": {
      "image/png": "[encoded data removed]",
      "text/plain": [
       "<Figure size 800x600 with 2 Axes>"
      ]
     },
     "metadata": {},
     "output_type": "display_data"
    },
    {
     "name": "stdout",
     "output_type": "stream",
     "text": [
      "\n",
      "Classification Report:\n",
      "              precision    recall  f1-score   support\n",
      "\n",
      "         0.0       0.86      0.94      0.90       289\n",
      "         1.0       0.97      0.93      0.95       607\n",
      "\n",
      "    accuracy                           0.93       896\n",
      "   macro avg       0.92      0.94      0.93       896\n",
      "weighted avg       0.94      0.93      0.93       896\n",
      "\n"
     ]
    }
   ],
   "source": [
    "# Generate and plot Confusion Matrix\n",
    "conf_matrix = confusion_matrix(val_labels_list, val_pred_classes)\n",
    "\n",
    "# Plot confusion matrix\n",
    "plt.figure(figsize=(8, 6))\n",
    "sns.heatmap(conf_matrix, annot=True, fmt='d', cmap='Blues', xticklabels=['Class 0', 'Class 1'],\n",
    "            yticklabels=['Class 0', 'Class 1'])\n",
    "plt.title('Confusion Matrix')\n",
    "plt.xlabel('Predicted')\n",
    "plt.ylabel('True')\n",
    "plt.show()\n",
    "\n",
    "# Print Classification Report\n",
    "print(\"\\nClassification Report:\")\n",
    "print(classification_report(val_labels_list, val_pred_classes))"
   ]
  },
  {
   "cell_type": "markdown",
   "id": "68af9d2b",
   "metadata": {
    "papermill": {
     "duration": 0.081546,
     "end_time": "2025-04-06T14:16:05.616697",
     "exception": false,
     "start_time": "2025-04-06T14:16:05.535151",
     "status": "completed"
    },
    "tags": []
   },
   "source": [
    "# Prediction"
   ]
  },
  {
   "cell_type": "code",
   "execution_count": 19,
   "id": "9028b59e",
   "metadata": {
    "execution": {
     "iopub.execute_input": "2025-04-06T14:16:05.781130Z",
     "iopub.status.busy": "2025-04-06T14:16:05.780838Z",
     "iopub.status.idle": "2025-04-06T14:16:05.785596Z",
     "shell.execute_reply": "2025-04-06T14:16:05.784949Z"
    },
    "papermill": {
     "duration": 0.088663,
     "end_time": "2025-04-06T14:16:05.786922",
     "exception": false,
     "start_time": "2025-04-06T14:16:05.698259",
     "status": "completed"
    },
    "tags": []
   },
   "outputs": [],
   "source": [
    "# ✅ Test Dataset (NO Labels)\n",
    "class CustomTestDataset(Dataset):\n",
    "    def __init__(self, df, transform=None):\n",
    "        self.df = pd.DataFrame(df)  # Ensure it's a DataFrame\n",
    "        self.transform = transform\n",
    "\n",
    "    def __len__(self):\n",
    "        return len(self.df)\n",
    "\n",
    "    def __getitem__(self, idx):\n",
    "        try:\n",
    "            img_path = self.df.iloc[idx][\"id\"]\n",
    "            img = Image.open(img_path).convert(\"RGB\")\n",
    "    \n",
    "            if self.transform:\n",
    "                img = self.transform(img)\n",
    "\n",
    "            return img  # No label for test dataset\n",
    "        except Exception:\n",
    "            return img_path"
   ]
  },
  {
   "cell_type": "code",
   "execution_count": 20,
   "id": "2f29767b",
   "metadata": {
    "execution": {
     "iopub.execute_input": "2025-04-06T14:16:05.950705Z",
     "iopub.status.busy": "2025-04-06T14:16:05.950421Z",
     "iopub.status.idle": "2025-04-06T14:16:05.955348Z",
     "shell.execute_reply": "2025-04-06T14:16:05.954601Z"
    },
    "papermill": {
     "duration": 0.088303,
     "end_time": "2025-04-06T14:16:05.956568",
     "exception": false,
     "start_time": "2025-04-06T14:16:05.868265",
     "status": "completed"
    },
    "tags": []
   },
   "outputs": [
    {
     "name": "stdout",
     "output_type": "stream",
     "text": [
      "Test dataset size: 2064\n"
     ]
    }
   ],
   "source": [
    "# ✅ Test Dataset\n",
    "test_dataset = CustomTestDataset(df=test_df, transform=test_transforms)\n",
    "\n",
    "# ✅ Test DataLoader\n",
    "test_loader = DataLoader(test_dataset, batch_size=1, shuffle=False)\n",
    "\n",
    "print(f\"Test dataset size: {len(test_dataset)}\")"
   ]
  },
  {
   "cell_type": "code",
   "execution_count": 21,
   "id": "85c543f0",
   "metadata": {
    "execution": {
     "iopub.execute_input": "2025-04-06T14:16:06.169301Z",
     "iopub.status.busy": "2025-04-06T14:16:06.168986Z",
     "iopub.status.idle": "2025-04-06T14:18:10.069588Z",
     "shell.execute_reply": "2025-04-06T14:18:10.065573Z"
    },
    "papermill": {
     "duration": 123.990017,
     "end_time": "2025-04-06T14:18:10.074657",
     "exception": false,
     "start_time": "2025-04-06T14:16:06.084640",
     "status": "completed"
    },
    "tags": []
   },
   "outputs": [
    {
     "name": "stderr",
     "output_type": "stream",
     "text": [
      "Inference Progress: 100%|██████████| 2064/2064 [02:03<00:00, 16.66it/s]\n"
     ]
    }
   ],
   "source": [
    "# ✅ Set model to evaluation mode\n",
    "model.eval()\n",
    "\n",
    "# ✅ List to store predictions\n",
    "test_predictions = []\n",
    "none = []\n",
    "count_of_none = 0\n",
    "# ✅ Disable gradient computation (since we're not training)\n",
    "with torch.no_grad():\n",
    "    for data in tqdm(test_loader, desc=\"Inference Progress\", total=len(test_loader)):\n",
    "        if type(data[0])==str:\n",
    "            none.append(data)\n",
    "            test_predictions.extend([1])\n",
    "        else:\n",
    "            # Move data to device\n",
    "            data = data.to(device)\n",
    "    \n",
    "            # Forward pass\n",
    "            output = model(data).squeeze(1)  # Ensure correct dimensions\n",
    "    \n",
    "            # Apply sigmoid activation to convert logits to probabilities\n",
    "            probs = torch.sigmoid(output)\n",
    "    \n",
    "            # Convert probabilities to binary class (0 or 1) using threshold 0.5\n",
    "            preds = (probs > 0.5).int()\n",
    "    \n",
    "            # Store predictions\n",
    "            test_predictions.extend(preds.cpu().numpy())\n",
    "\n",
    "# Convert predictions to numpy array\n",
    "test_predictions = np.array(test_predictions, dtype=int)"
   ]
  },
  {
   "cell_type": "code",
   "execution_count": 22,
   "id": "79233163",
   "metadata": {
    "execution": {
     "iopub.execute_input": "2025-04-06T14:18:10.331111Z",
     "iopub.status.busy": "2025-04-06T14:18:10.330824Z",
     "iopub.status.idle": "2025-04-06T14:18:10.338021Z",
     "shell.execute_reply": "2025-04-06T14:18:10.337363Z"
    },
    "papermill": {
     "duration": 0.136039,
     "end_time": "2025-04-06T14:18:10.339208",
     "exception": false,
     "start_time": "2025-04-06T14:18:10.203169",
     "status": "completed"
    },
    "tags": []
   },
   "outputs": [],
   "source": [
    "# ✅ Create Submission DataFrame using `test_df`\n",
    "submission_df = test_df.copy()  # Copy original test dataframe\n",
    "\n",
    "# Extract only the filename from the full path\n",
    "submission_df[\"id\"] = submission_df[\"id\"].apply(lambda x: x.split(\"/\")[-1])  \n",
    "# Reattach `test_data_v2/` prefix\n",
    "submission_df[\"id\"] = \"test_data_v2/\" + submission_df[\"id\"]\n",
    "# Add predictions\n",
    "submission_df[\"target\"] = test_predictions"
   ]
  },
  {
   "cell_type": "code",
   "execution_count": 23,
   "id": "142ef087",
   "metadata": {
    "execution": {
     "iopub.execute_input": "2025-04-06T14:18:10.590631Z",
     "iopub.status.busy": "2025-04-06T14:18:10.590333Z",
     "iopub.status.idle": "2025-04-06T14:18:10.599303Z",
     "shell.execute_reply": "2025-04-06T14:18:10.598401Z"
    },
    "papermill": {
     "duration": 0.135604,
     "end_time": "2025-04-06T14:18:10.600666",
     "exception": false,
     "start_time": "2025-04-06T14:18:10.465062",
     "status": "completed"
    },
    "tags": []
   },
   "outputs": [
    {
     "data": {
      "text/html": [
       "<div>\n",
       "<style scoped>\n",
       "    .dataframe tbody tr th:only-of-type {\n",
       "        vertical-align: middle;\n",
       "    }\n",
       "\n",
       "    .dataframe tbody tr th {\n",
       "        vertical-align: top;\n",
       "    }\n",
       "\n",
       "    .dataframe thead th {\n",
       "        text-align: right;\n",
       "    }\n",
       "</style>\n",
       "<table border=\"1\" class=\"dataframe\">\n",
       "  <thead>\n",
       "    <tr style=\"text-align: right;\">\n",
       "      <th></th>\n",
       "      <th>id</th>\n",
       "      <th>target</th>\n",
       "    </tr>\n",
       "  </thead>\n",
       "  <tbody>\n",
       "    <tr>\n",
       "      <th>0</th>\n",
       "      <td>test_data_v2/10000255.jpg</td>\n",
       "      <td>1</td>\n",
       "    </tr>\n",
       "    <tr>\n",
       "      <th>1</th>\n",
       "      <td>test_data_v2/100158667.jpg</td>\n",
       "      <td>0</td>\n",
       "    </tr>\n",
       "    <tr>\n",
       "      <th>2</th>\n",
       "      <td>test_data_v2/100158669.jpg</td>\n",
       "      <td>0</td>\n",
       "    </tr>\n",
       "    <tr>\n",
       "      <th>3</th>\n",
       "      <td>test_data_v2/100204647.jpg</td>\n",
       "      <td>0</td>\n",
       "    </tr>\n",
       "    <tr>\n",
       "      <th>4</th>\n",
       "      <td>test_data_v2/100228704.jpg</td>\n",
       "      <td>0</td>\n",
       "    </tr>\n",
       "    <tr>\n",
       "      <th>...</th>\n",
       "      <td>...</td>\n",
       "      <td>...</td>\n",
       "    </tr>\n",
       "    <tr>\n",
       "      <th>2059</th>\n",
       "      <td>test_data_v2/99711172.jpg</td>\n",
       "      <td>0</td>\n",
       "    </tr>\n",
       "    <tr>\n",
       "      <th>2060</th>\n",
       "      <td>test_data_v2/99744533.jpg</td>\n",
       "      <td>0</td>\n",
       "    </tr>\n",
       "    <tr>\n",
       "      <th>2061</th>\n",
       "      <td>test_data_v2/99835453.jpg</td>\n",
       "      <td>0</td>\n",
       "    </tr>\n",
       "    <tr>\n",
       "      <th>2062</th>\n",
       "      <td>test_data_v2/99837411.jpg</td>\n",
       "      <td>0</td>\n",
       "    </tr>\n",
       "    <tr>\n",
       "      <th>2063</th>\n",
       "      <td>test_data_v2/99891623.jpg</td>\n",
       "      <td>0</td>\n",
       "    </tr>\n",
       "  </tbody>\n",
       "</table>\n",
       "<p>2064 rows × 2 columns</p>\n",
       "</div>"
      ],
      "text/plain": [
       "                              id  target\n",
       "0      test_data_v2/10000255.jpg       1\n",
       "1     test_data_v2/100158667.jpg       0\n",
       "2     test_data_v2/100158669.jpg       0\n",
       "3     test_data_v2/100204647.jpg       0\n",
       "4     test_data_v2/100228704.jpg       0\n",
       "...                          ...     ...\n",
       "2059   test_data_v2/99711172.jpg       0\n",
       "2060   test_data_v2/99744533.jpg       0\n",
       "2061   test_data_v2/99835453.jpg       0\n",
       "2062   test_data_v2/99837411.jpg       0\n",
       "2063   test_data_v2/99891623.jpg       0\n",
       "\n",
       "[2064 rows x 2 columns]"
      ]
     },
     "execution_count": 23,
     "metadata": {},
     "output_type": "execute_result"
    }
   ],
   "source": [
    "submission_df"
   ]
  },
  {
   "cell_type": "code",
   "execution_count": 24,
   "id": "e7323548",
   "metadata": {
    "execution": {
     "iopub.execute_input": "2025-04-06T14:18:10.851630Z",
     "iopub.status.busy": "2025-04-06T14:18:10.851323Z",
     "iopub.status.idle": "2025-04-06T14:18:10.873575Z",
     "shell.execute_reply": "2025-04-06T14:18:10.872943Z"
    },
    "papermill": {
     "duration": 0.14939,
     "end_time": "2025-04-06T14:18:10.874788",
     "exception": false,
     "start_time": "2025-04-06T14:18:10.725398",
     "status": "completed"
    },
    "tags": []
   },
   "outputs": [],
   "source": [
    "samp = pd.read_csv('/kaggle/input/not-beautifull-marketplace/sample_submition.csv')"
   ]
  },
  {
   "cell_type": "code",
   "execution_count": 25,
   "id": "216e5254",
   "metadata": {
    "execution": {
     "iopub.execute_input": "2025-04-06T14:18:11.151440Z",
     "iopub.status.busy": "2025-04-06T14:18:11.151124Z",
     "iopub.status.idle": "2025-04-06T14:18:11.159932Z",
     "shell.execute_reply": "2025-04-06T14:18:11.159095Z"
    },
    "papermill": {
     "duration": 0.15924,
     "end_time": "2025-04-06T14:18:11.161372",
     "exception": false,
     "start_time": "2025-04-06T14:18:11.002132",
     "status": "completed"
    },
    "tags": []
   },
   "outputs": [
    {
     "data": {
      "text/html": [
       "<div>\n",
       "<style scoped>\n",
       "    .dataframe tbody tr th:only-of-type {\n",
       "        vertical-align: middle;\n",
       "    }\n",
       "\n",
       "    .dataframe tbody tr th {\n",
       "        vertical-align: top;\n",
       "    }\n",
       "\n",
       "    .dataframe thead th {\n",
       "        text-align: right;\n",
       "    }\n",
       "</style>\n",
       "<table border=\"1\" class=\"dataframe\">\n",
       "  <thead>\n",
       "    <tr style=\"text-align: right;\">\n",
       "      <th></th>\n",
       "      <th>target</th>\n",
       "    </tr>\n",
       "  </thead>\n",
       "  <tbody>\n",
       "    <tr>\n",
       "      <th>0</th>\n",
       "      <td>1</td>\n",
       "    </tr>\n",
       "    <tr>\n",
       "      <th>1</th>\n",
       "      <td>0</td>\n",
       "    </tr>\n",
       "    <tr>\n",
       "      <th>2</th>\n",
       "      <td>0</td>\n",
       "    </tr>\n",
       "    <tr>\n",
       "      <th>3</th>\n",
       "      <td>0</td>\n",
       "    </tr>\n",
       "    <tr>\n",
       "      <th>4</th>\n",
       "      <td>0</td>\n",
       "    </tr>\n",
       "    <tr>\n",
       "      <th>...</th>\n",
       "      <td>...</td>\n",
       "    </tr>\n",
       "    <tr>\n",
       "      <th>2059</th>\n",
       "      <td>0</td>\n",
       "    </tr>\n",
       "    <tr>\n",
       "      <th>2060</th>\n",
       "      <td>0</td>\n",
       "    </tr>\n",
       "    <tr>\n",
       "      <th>2061</th>\n",
       "      <td>0</td>\n",
       "    </tr>\n",
       "    <tr>\n",
       "      <th>2062</th>\n",
       "      <td>0</td>\n",
       "    </tr>\n",
       "    <tr>\n",
       "      <th>2063</th>\n",
       "      <td>0</td>\n",
       "    </tr>\n",
       "  </tbody>\n",
       "</table>\n",
       "<p>2064 rows × 1 columns</p>\n",
       "</div>"
      ],
      "text/plain": [
       "      target\n",
       "0          1\n",
       "1          0\n",
       "2          0\n",
       "3          0\n",
       "4          0\n",
       "...      ...\n",
       "2059       0\n",
       "2060       0\n",
       "2061       0\n",
       "2062       0\n",
       "2063       0\n",
       "\n",
       "[2064 rows x 1 columns]"
      ]
     },
     "execution_count": 25,
     "metadata": {},
     "output_type": "execute_result"
    }
   ],
   "source": [
    "samp['target'] = submission_df['target']\n",
    "samp"
   ]
  },
  {
   "cell_type": "code",
   "execution_count": 26,
   "id": "8214e3b8",
   "metadata": {
    "execution": {
     "iopub.execute_input": "2025-04-06T14:18:11.483291Z",
     "iopub.status.busy": "2025-04-06T14:18:11.483003Z",
     "iopub.status.idle": "2025-04-06T14:18:11.491870Z",
     "shell.execute_reply": "2025-04-06T14:18:11.490968Z"
    },
    "papermill": {
     "duration": 0.188105,
     "end_time": "2025-04-06T14:18:11.493214",
     "exception": false,
     "start_time": "2025-04-06T14:18:11.305109",
     "status": "completed"
    },
    "tags": []
   },
   "outputs": [],
   "source": [
    "# ✅ Save CSV file\n",
    "samp.to_csv(\"submission.csv\", index=False)"
   ]
  },
  {
   "cell_type": "code",
   "execution_count": null,
   "id": "9a8ded91",
   "metadata": {
    "papermill": {
     "duration": 0.133021,
     "end_time": "2025-04-06T14:18:11.753246",
     "exception": false,
     "start_time": "2025-04-06T14:18:11.620225",
     "status": "completed"
    },
    "tags": []
   },
   "outputs": [],
   "source": []
  }
 ],
 "metadata": {
  "kaggle": {
   "accelerator": "gpu",
   "dataSources": [
    {
     "datasetId": 7063171,
     "sourceId": 11296009,
     "sourceType": "datasetVersion"
    }
   ],
   "dockerImageVersionId": 30840,
   "isGpuEnabled": true,
   "isInternetEnabled": true,
   "language": "python",
   "sourceType": "notebook"
  },
  "kernelspec": {
   "display_name": "Python 3",
   "language": "python",
   "name": "python3"
  },
  "language_info": {
   "codemirror_mode": {
    "name": "ipython",
    "version": 3
   },
   "file_extension": ".py",
   "mimetype": "text/x-python",
   "name": "python",
   "nbconvert_exporter": "python",
   "pygments_lexer": "ipython3",
   "version": "3.10.12"
  },
  "papermill": {
   "default_parameters": {},
   "duration": 5269.398137,
   "end_time": "2025-04-06T14:18:14.611938",
   "environment_variables": {},
   "exception": null,
   "input_path": "__notebook__.ipynb",
   "output_path": "__notebook__.ipynb",
   "parameters": {},
   "start_time": "2025-04-06T12:50:25.213801",
   "version": "2.6.0"
  },
  "widgets": {
   "application/vnd.jupyter.widget-state+json": {
    "state": {
     "3005097ef38048b5b01c975426011a38": {
      "model_module": "@jupyter-widgets/controls",
      "model_module_version": "2.0.0",
      "model_name": "HBoxModel",
      "state": {
       "_dom_classes": [],
       "_model_module": "@jupyter-widgets/controls",
       "_model_module_version": "2.0.0",
       "_model_name": "HBoxModel",
       "_view_count": null,
       "_view_module": "@jupyter-widgets/controls",
       "_view_module_version": "2.0.0",
       "_view_name": "HBoxView",
       "box_style": "",
       "children": [
        "IPY_MODEL_489a9ce5659044d78b216c0139e08e06",
        "IPY_MODEL_8ef744fe7db642a985b4268aac72278e",
        "IPY_MODEL_69af4fa9f6b8407383ffaedb7da950f8"
       ],
       "layout": "IPY_MODEL_c4de6be0291c4997907ab4dbe5c8ff7c",
       "tabbable": null,
       "tooltip": null
      }
     },
     "30a9a7dc95f940e6ae4ef1b5e446dbec": {
      "model_module": "@jupyter-widgets/controls",
      "model_module_version": "2.0.0",
      "model_name": "ProgressStyleModel",
      "state": {
       "_model_module": "@jupyter-widgets/controls",
       "_model_module_version": "2.0.0",
       "_model_name": "ProgressStyleModel",
       "_view_count": null,
       "_view_module": "@jupyter-widgets/base",
       "_view_module_version": "2.0.0",
       "_view_name": "StyleView",
       "bar_color": null,
       "description_width": ""
      }
     },
     "36b92034143c4c3b89be37d20c8b4a8d": {
      "model_module": "@jupyter-widgets/base",
      "model_module_version": "2.0.0",
      "model_name": "LayoutModel",
      "state": {
       "_model_module": "@jupyter-widgets/base",
       "_model_module_version": "2.0.0",
       "_model_name": "LayoutModel",
       "_view_count": null,
       "_view_module": "@jupyter-widgets/base",
       "_view_module_version": "2.0.0",
       "_view_name": "LayoutView",
       "align_content": null,
       "align_items": null,
       "align_self": null,
       "border_bottom": null,
       "border_left": null,
       "border_right": null,
       "border_top": null,
       "bottom": null,
       "display": null,
       "flex": null,
       "flex_flow": null,
       "grid_area": null,
       "grid_auto_columns": null,
       "grid_auto_flow": null,
       "grid_auto_rows": null,
       "grid_column": null,
       "grid_gap": null,
       "grid_row": null,
       "grid_template_areas": null,
       "grid_template_columns": null,
       "grid_template_rows": null,
       "height": null,
       "justify_content": null,
       "justify_items": null,
       "left": null,
       "margin": null,
       "max_height": null,
       "max_width": null,
       "min_height": null,
       "min_width": null,
       "object_fit": null,
       "object_position": null,
       "order": null,
       "overflow": null,
       "padding": null,
       "right": null,
       "top": null,
       "visibility": null,
       "width": null
      }
     },
     "41229fe6c0f14b6dbdbdbe7205b0b2d0": {
      "model_module": "@jupyter-widgets/controls",
      "model_module_version": "2.0.0",
      "model_name": "FloatProgressModel",
      "state": {
       "_dom_classes": [],
       "_model_module": "@jupyter-widgets/controls",
       "_model_module_version": "2.0.0",
       "_model_name": "FloatProgressModel",
       "_view_count": null,
       "_view_module": "@jupyter-widgets/controls",
       "_view_module_version": "2.0.0",
       "_view_name": "ProgressView",
       "bar_style": "success",
       "description": "",
       "description_allow_html": false,
       "layout": "IPY_MODEL_4e519053b0c34104b00deb1651733c4d",
       "max": 791103952.0,
       "min": 0.0,
       "orientation": "horizontal",
       "style": "IPY_MODEL_30a9a7dc95f940e6ae4ef1b5e446dbec",
       "tabbable": null,
       "tooltip": null,
       "value": 791103952.0
      }
     },
     "41c7a69f60844d9785217cb2e100bf3f": {
      "model_module": "@jupyter-widgets/controls",
      "model_module_version": "2.0.0",
      "model_name": "HTMLStyleModel",
      "state": {
       "_model_module": "@jupyter-widgets/controls",
       "_model_module_version": "2.0.0",
       "_model_name": "HTMLStyleModel",
       "_view_count": null,
       "_view_module": "@jupyter-widgets/base",
       "_view_module_version": "2.0.0",
       "_view_name": "StyleView",
       "background": null,
       "description_width": "",
       "font_size": null,
       "text_color": null
      }
     },
     "489a9ce5659044d78b216c0139e08e06": {
      "model_module": "@jupyter-widgets/controls",
      "model_module_version": "2.0.0",
      "model_name": "HTMLModel",
      "state": {
       "_dom_classes": [],
       "_model_module": "@jupyter-widgets/controls",
       "_model_module_version": "2.0.0",
       "_model_name": "HTMLModel",
       "_view_count": null,
       "_view_module": "@jupyter-widgets/controls",
       "_view_module_version": "2.0.0",
       "_view_name": "HTMLView",
       "description": "",
       "description_allow_html": false,
       "layout": "IPY_MODEL_36b92034143c4c3b89be37d20c8b4a8d",
       "placeholder": "​",
       "style": "IPY_MODEL_53271939512743a3a412044b9d512a44",
       "tabbable": null,
       "tooltip": null,
       "value": "model.safetensors: 100%"
      }
     },
     "4e519053b0c34104b00deb1651733c4d": {
      "model_module": "@jupyter-widgets/base",
      "model_module_version": "2.0.0",
      "model_name": "LayoutModel",
      "state": {
       "_model_module": "@jupyter-widgets/base",
       "_model_module_version": "2.0.0",
       "_model_name": "LayoutModel",
       "_view_count": null,
       "_view_module": "@jupyter-widgets/base",
       "_view_module_version": "2.0.0",
       "_view_name": "LayoutView",
       "align_content": null,
       "align_items": null,
       "align_self": null,
       "border_bottom": null,
       "border_left": null,
       "border_right": null,
       "border_top": null,
       "bottom": null,
       "display": null,
       "flex": null,
       "flex_flow": null,
       "grid_area": null,
       "grid_auto_columns": null,
       "grid_auto_flow": null,
       "grid_auto_rows": null,
       "grid_column": null,
       "grid_gap": null,
       "grid_row": null,
       "grid_template_areas": null,
       "grid_template_columns": null,
       "grid_template_rows": null,
       "height": null,
       "justify_content": null,
       "justify_items": null,
       "left": null,
       "margin": null,
       "max_height": null,
       "max_width": null,
       "min_height": null,
       "min_width": null,
       "object_fit": null,
       "object_position": null,
       "order": null,
       "overflow": null,
       "padding": null,
       "right": null,
       "top": null,
       "visibility": null,
       "width": null
      }
     },
     "53271939512743a3a412044b9d512a44": {
      "model_module": "@jupyter-widgets/controls",
      "model_module_version": "2.0.0",
      "model_name": "HTMLStyleModel",
      "state": {
       "_model_module": "@jupyter-widgets/controls",
       "_model_module_version": "2.0.0",
       "_model_name": "HTMLStyleModel",
       "_view_count": null,
       "_view_module": "@jupyter-widgets/base",
       "_view_module_version": "2.0.0",
       "_view_name": "StyleView",
       "background": null,
       "description_width": "",
       "font_size": null,
       "text_color": null
      }
     },
     "69af4fa9f6b8407383ffaedb7da950f8": {
      "model_module": "@jupyter-widgets/controls",
      "model_module_version": "2.0.0",
      "model_name": "HTMLModel",
      "state": {
       "_dom_classes": [],
       "_model_module": "@jupyter-widgets/controls",
       "_model_module_version": "2.0.0",
       "_model_name": "HTMLModel",
       "_view_count": null,
       "_view_module": "@jupyter-widgets/controls",
       "_view_module_version": "2.0.0",
       "_view_name": "HTMLView",
       "description": "",
       "description_allow_html": false,
       "layout": "IPY_MODEL_fa01e61ad58441e8a116fc0a270d7579",
       "placeholder": "​",
       "style": "IPY_MODEL_41c7a69f60844d9785217cb2e100bf3f",
       "tabbable": null,
       "tooltip": null,
       "value": " 353M/353M [00:00&lt;00:00, 416MB/s]"
      }
     },
     "6cb736eb89ba486dad53e541a9349aa7": {
      "model_module": "@jupyter-widgets/base",
      "model_module_version": "2.0.0",
      "model_name": "LayoutModel",
      "state": {
       "_model_module": "@jupyter-widgets/base",
       "_model_module_version": "2.0.0",
       "_model_name": "LayoutModel",
       "_view_count": null,
       "_view_module": "@jupyter-widgets/base",
       "_view_module_version": "2.0.0",
       "_view_name": "LayoutView",
       "align_content": null,
       "align_items": null,
       "align_self": null,
       "border_bottom": null,
       "border_left": null,
       "border_right": null,
       "border_top": null,
       "bottom": null,
       "display": null,
       "flex": null,
       "flex_flow": null,
       "grid_area": null,
       "grid_auto_columns": null,
       "grid_auto_flow": null,
       "grid_auto_rows": null,
       "grid_column": null,
       "grid_gap": null,
       "grid_row": null,
       "grid_template_areas": null,
       "grid_template_columns": null,
       "grid_template_rows": null,
       "height": null,
       "justify_content": null,
       "justify_items": null,
       "left": null,
       "margin": null,
       "max_height": null,
       "max_width": null,
       "min_height": null,
       "min_width": null,
       "object_fit": null,
       "object_position": null,
       "order": null,
       "overflow": null,
       "padding": null,
       "right": null,
       "top": null,
       "visibility": null,
       "width": null
      }
     },
     "70335ea2cd884d139d8b573f33cf357a": {
      "model_module": "@jupyter-widgets/controls",
      "model_module_version": "2.0.0",
      "model_name": "HTMLStyleModel",
      "state": {
       "_model_module": "@jupyter-widgets/controls",
       "_model_module_version": "2.0.0",
       "_model_name": "HTMLStyleModel",
       "_view_count": null,
       "_view_module": "@jupyter-widgets/base",
       "_view_module_version": "2.0.0",
       "_view_name": "StyleView",
       "background": null,
       "description_width": "",
       "font_size": null,
       "text_color": null
      }
     },
     "72868e4c2baf454bb5866cee4b0bcf49": {
      "model_module": "@jupyter-widgets/controls",
      "model_module_version": "2.0.0",
      "model_name": "HTMLModel",
      "state": {
       "_dom_classes": [],
       "_model_module": "@jupyter-widgets/controls",
       "_model_module_version": "2.0.0",
       "_model_name": "HTMLModel",
       "_view_count": null,
       "_view_module": "@jupyter-widgets/controls",
       "_view_module_version": "2.0.0",
       "_view_name": "HTMLView",
       "description": "",
       "description_allow_html": false,
       "layout": "IPY_MODEL_6cb736eb89ba486dad53e541a9349aa7",
       "placeholder": "​",
       "style": "IPY_MODEL_70335ea2cd884d139d8b573f33cf357a",
       "tabbable": null,
       "tooltip": null,
       "value": "model.safetensors: 100%"
      }
     },
     "8abc6f8251e341b6aed5e48283948728": {
      "model_module": "@jupyter-widgets/controls",
      "model_module_version": "2.0.0",
      "model_name": "HTMLModel",
      "state": {
       "_dom_classes": [],
       "_model_module": "@jupyter-widgets/controls",
       "_model_module_version": "2.0.0",
       "_model_name": "HTMLModel",
       "_view_count": null,
       "_view_module": "@jupyter-widgets/controls",
       "_view_module_version": "2.0.0",
       "_view_name": "HTMLView",
       "description": "",
       "description_allow_html": false,
       "layout": "IPY_MODEL_fe3a2564c34442a288101b0dce3fc451",
       "placeholder": "​",
       "style": "IPY_MODEL_a061ed4878814234ab8be13d3c880fbc",
       "tabbable": null,
       "tooltip": null,
       "value": " 791M/791M [00:03&lt;00:00, 188MB/s]"
      }
     },
     "8ef744fe7db642a985b4268aac72278e": {
      "model_module": "@jupyter-widgets/controls",
      "model_module_version": "2.0.0",
      "model_name": "FloatProgressModel",
      "state": {
       "_dom_classes": [],
       "_model_module": "@jupyter-widgets/controls",
       "_model_module_version": "2.0.0",
       "_model_name": "FloatProgressModel",
       "_view_count": null,
       "_view_module": "@jupyter-widgets/controls",
       "_view_module_version": "2.0.0",
       "_view_name": "ProgressView",
       "bar_style": "success",
       "description": "",
       "description_allow_html": false,
       "layout": "IPY_MODEL_ca7bf85826c147d9a42bd5f8cb4b1c05",
       "max": 352685652.0,
       "min": 0.0,
       "orientation": "horizontal",
       "style": "IPY_MODEL_c5f7eafaedbd41d7b300782645ca648a",
       "tabbable": null,
       "tooltip": null,
       "value": 352685652.0
      }
     },
     "a061ed4878814234ab8be13d3c880fbc": {
      "model_module": "@jupyter-widgets/controls",
      "model_module_version": "2.0.0",
      "model_name": "HTMLStyleModel",
      "state": {
       "_model_module": "@jupyter-widgets/controls",
       "_model_module_version": "2.0.0",
       "_model_name": "HTMLStyleModel",
       "_view_count": null,
       "_view_module": "@jupyter-widgets/base",
       "_view_module_version": "2.0.0",
       "_view_name": "StyleView",
       "background": null,
       "description_width": "",
       "font_size": null,
       "text_color": null
      }
     },
     "a44583e37bda4ee9be01ff833d9ff5a2": {
      "model_module": "@jupyter-widgets/controls",
      "model_module_version": "2.0.0",
      "model_name": "HBoxModel",
      "state": {
       "_dom_classes": [],
       "_model_module": "@jupyter-widgets/controls",
       "_model_module_version": "2.0.0",
       "_model_name": "HBoxModel",
       "_view_count": null,
       "_view_module": "@jupyter-widgets/controls",
       "_view_module_version": "2.0.0",
       "_view_name": "HBoxView",
       "box_style": "",
       "children": [
        "IPY_MODEL_72868e4c2baf454bb5866cee4b0bcf49",
        "IPY_MODEL_41229fe6c0f14b6dbdbdbe7205b0b2d0",
        "IPY_MODEL_8abc6f8251e341b6aed5e48283948728"
       ],
       "layout": "IPY_MODEL_e081ecbff225416d912e5248c4208cf3",
       "tabbable": null,
       "tooltip": null
      }
     },
     "c4de6be0291c4997907ab4dbe5c8ff7c": {
      "model_module": "@jupyter-widgets/base",
      "model_module_version": "2.0.0",
      "model_name": "LayoutModel",
      "state": {
       "_model_module": "@jupyter-widgets/base",
       "_model_module_version": "2.0.0",
       "_model_name": "LayoutModel",
       "_view_count": null,
       "_view_module": "@jupyter-widgets/base",
       "_view_module_version": "2.0.0",
       "_view_name": "LayoutView",
       "align_content": null,
       "align_items": null,
       "align_self": null,
       "border_bottom": null,
       "border_left": null,
       "border_right": null,
       "border_top": null,
       "bottom": null,
       "display": null,
       "flex": null,
       "flex_flow": null,
       "grid_area": null,
       "grid_auto_columns": null,
       "grid_auto_flow": null,
       "grid_auto_rows": null,
       "grid_column": null,
       "grid_gap": null,
       "grid_row": null,
       "grid_template_areas": null,
       "grid_template_columns": null,
       "grid_template_rows": null,
       "height": null,
       "justify_content": null,
       "justify_items": null,
       "left": null,
       "margin": null,
       "max_height": null,
       "max_width": null,
       "min_height": null,
       "min_width": null,
       "object_fit": null,
       "object_position": null,
       "order": null,
       "overflow": null,
       "padding": null,
       "right": null,
       "top": null,
       "visibility": null,
       "width": null
      }
     },
     "c5f7eafaedbd41d7b300782645ca648a": {
      "model_module": "@jupyter-widgets/controls",
      "model_module_version": "2.0.0",
      "model_name": "ProgressStyleModel",
      "state": {
       "_model_module": "@jupyter-widgets/controls",
       "_model_module_version": "2.0.0",
       "_model_name": "ProgressStyleModel",
       "_view_count": null,
       "_view_module": "@jupyter-widgets/base",
       "_view_module_version": "2.0.0",
       "_view_name": "StyleView",
       "bar_color": null,
       "description_width": ""
      }
     },
     "ca7bf85826c147d9a42bd5f8cb4b1c05": {
      "model_module": "@jupyter-widgets/base",
      "model_module_version": "2.0.0",
      "model_name": "LayoutModel",
      "state": {
       "_model_module": "@jupyter-widgets/base",
       "_model_module_version": "2.0.0",
       "_model_name": "LayoutModel",
       "_view_count": null,
       "_view_module": "@jupyter-widgets/base",
       "_view_module_version": "2.0.0",
       "_view_name": "LayoutView",
       "align_content": null,
       "align_items": null,
       "align_self": null,
       "border_bottom": null,
       "border_left": null,
       "border_right": null,
       "border_top": null,
       "bottom": null,
       "display": null,
       "flex": null,
       "flex_flow": null,
       "grid_area": null,
       "grid_auto_columns": null,
       "grid_auto_flow": null,
       "grid_auto_rows": null,
       "grid_column": null,
       "grid_gap": null,
       "grid_row": null,
       "grid_template_areas": null,
       "grid_template_columns": null,
       "grid_template_rows": null,
       "height": null,
       "justify_content": null,
       "justify_items": null,
       "left": null,
       "margin": null,
       "max_height": null,
       "max_width": null,
       "min_height": null,
       "min_width": null,
       "object_fit": null,
       "object_position": null,
       "order": null,
       "overflow": null,
       "padding": null,
       "right": null,
       "top": null,
       "visibility": null,
       "width": null
      }
     },
     "e081ecbff225416d912e5248c4208cf3": {
      "model_module": "@jupyter-widgets/base",
      "model_module_version": "2.0.0",
      "model_name": "LayoutModel",
      "state": {
       "_model_module": "@jupyter-widgets/base",
       "_model_module_version": "2.0.0",
       "_model_name": "LayoutModel",
       "_view_count": null,
       "_view_module": "@jupyter-widgets/base",
       "_view_module_version": "2.0.0",
       "_view_name": "LayoutView",
       "align_content": null,
       "align_items": null,
       "align_self": null,
       "border_bottom": null,
       "border_left": null,
       "border_right": null,
       "border_top": null,
       "bottom": null,
       "display": null,
       "flex": null,
       "flex_flow": null,
       "grid_area": null,
       "grid_auto_columns": null,
       "grid_auto_flow": null,
       "grid_auto_rows": null,
       "grid_column": null,
       "grid_gap": null,
       "grid_row": null,
       "grid_template_areas": null,
       "grid_template_columns": null,
       "grid_template_rows": null,
       "height": null,
       "justify_content": null,
       "justify_items": null,
       "left": null,
       "margin": null,
       "max_height": null,
       "max_width": null,
       "min_height": null,
       "min_width": null,
       "object_fit": null,
       "object_position": null,
       "order": null,
       "overflow": null,
       "padding": null,
       "right": null,
       "top": null,
       "visibility": null,
       "width": null
      }
     },
     "fa01e61ad58441e8a116fc0a270d7579": {
      "model_module": "@jupyter-widgets/base",
      "model_module_version": "2.0.0",
      "model_name": "LayoutModel",
      "state": {
       "_model_module": "@jupyter-widgets/base",
       "_model_module_version": "2.0.0",
       "_model_name": "LayoutModel",
       "_view_count": null,
       "_view_module": "@jupyter-widgets/base",
       "_view_module_version": "2.0.0",
       "_view_name": "LayoutView",
       "align_content": null,
       "align_items": null,
       "align_self": null,
       "border_bottom": null,
       "border_left": null,
       "border_right": null,
       "border_top": null,
       "bottom": null,
       "display": null,
       "flex": null,
       "flex_flow": null,
       "grid_area": null,
       "grid_auto_columns": null,
       "grid_auto_flow": null,
       "grid_auto_rows": null,
       "grid_column": null,
       "grid_gap": null,
       "grid_row": null,
       "grid_template_areas": null,
       "grid_template_columns": null,
       "grid_template_rows": null,
       "height": null,
       "justify_content": null,
       "justify_items": null,
       "left": null,
       "margin": null,
       "max_height": null,
       "max_width": null,
       "min_height": null,
       "min_width": null,
       "object_fit": null,
       "object_position": null,
       "order": null,
       "overflow": null,
       "padding": null,
       "right": null,
       "top": null,
       "visibility": null,
       "width": null
      }
     },
     "fe3a2564c34442a288101b0dce3fc451": {
      "model_module": "@jupyter-widgets/base",
      "model_module_version": "2.0.0",
      "model_name": "LayoutModel",
      "state": {
       "_model_module": "@jupyter-widgets/base",
       "_model_module_version": "2.0.0",
       "_model_name": "LayoutModel",
       "_view_count": null,
       "_view_module": "@jupyter-widgets/base",
       "_view_module_version": "2.0.0",
       "_view_name": "LayoutView",
       "align_content": null,
       "align_items": null,
       "align_self": null,
       "border_bottom": null,
       "border_left": null,
       "border_right": null,
       "border_top": null,
       "bottom": null,
       "display": null,
       "flex": null,
       "flex_flow": null,
       "grid_area": null,
       "grid_auto_columns": null,
       "grid_auto_flow": null,
       "grid_auto_rows": null,
       "grid_column": null,
       "grid_gap": null,
       "grid_row": null,
       "grid_template_areas": null,
       "grid_template_columns": null,
       "grid_template_rows": null,
       "height": null,
       "justify_content": null,
       "justify_items": null,
       "left": null,
       "margin": null,
       "max_height": null,
       "max_width": null,
       "min_height": null,
       "min_width": null,
       "object_fit": null,
       "object_position": null,
       "order": null,
       "overflow": null,
       "padding": null,
       "right": null,
       "top": null,
       "visibility": null,
       "width": null
      }
     }
    },
    "version_major": 2,
    "version_minor": 0
   }
  }
 },
 "nbformat": 4,
 "nbformat_minor": 5
}
